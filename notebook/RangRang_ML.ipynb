{
  "nbformat": 4,
  "nbformat_minor": 0,
  "metadata": {
    "colab": {
      "name": "RangRang-ML.ipynb",
      "provenance": [],
      "collapsed_sections": []
    },
    "kernelspec": {
      "name": "python3",
      "display_name": "Python 3"
    },
    "language_info": {
      "name": "python"
    },
    "accelerator": "GPU"
  },
  "cells": [
    {
      "source": [
        "# RangRang Notebook\n",
        "\n",
        "<p align=\"center\">\n",
        "  <img src=\"https://raw.githubusercontent.com/Hyuto/rangrang-ML/master/assets/logo.png\" alt=\"logo\" width=\"300px\" height=\"300px\" />\n",
        "</p>\n",
        "\n",
        "This is the notebook that Machine Learning team of `B21-CAP0378` use to develop ML side of the App\n",
        "\n",
        "## Content\n",
        "\n",
        "1. Training Object Detection Model Using Tensorflow Object Detection API\n",
        "2. Converting Saved Model to `tflite`\n",
        "3. Converting Saved Model to `tensorflowjs` model\n",
        "\n",
        "## Environtment\n",
        "\n",
        "Running on google colab with `gpu` enabled\n",
        "\n",
        "**Setup** `tensorflow object detection API`"
      ],
      "cell_type": "markdown",
      "metadata": {}
    },
    {
      "cell_type": "code",
      "metadata": {
        "colab": {
          "base_uri": "https://localhost:8080/"
        },
        "id": "Go2HU66GW-4n",
        "outputId": "7104a793-c969-4710-ad9a-7d6d5e7af96a"
      },
      "source": [
        "!mkdir TensorFlow \n",
        "%cd TensorFlow\n",
        "!git clone https://github.com/tensorflow/models.git\n",
        "%cd models/research\n",
        "!protoc object_detection/protos/*.proto --python_out=.\n",
        "!pip install cython\n",
        "!pip install git+https://github.com/philferriere/cocoapi.git#subdirectory=PythonAPI\n",
        "!cp object_detection/packages/tf2/setup.py .\n",
        "!python -m pip install .\n",
        "!python object_detection/builders/model_builder_tf2_test.py\n",
        "%cd ../../.."
      ],
      "execution_count": null,
      "outputs": []
    },
    {
      "source": [
        "**Clone our repository for main directory**"
      ],
      "cell_type": "markdown",
      "metadata": {}
    },
    {
      "cell_type": "code",
      "metadata": {
        "colab": {
          "base_uri": "https://localhost:8080/"
        },
        "id": "MQdvNgpCMTC0",
        "outputId": "b38dbe29-cfe2-411f-a56c-e608e634d95d"
      },
      "source": [
        "!git clone https://github.com/Hyuto/rangrang-ML.git\n",
        "!cp -r rangrang-ML/workspace TensorFlow\n",
        "!cp -r rangrang-ML/pre-trained-models rangrang-ML/scripts TensorFlow/workspace/color_detection\n",
        "%cd TensorFlow/workspace/color_detection\n",
        "!mkdir exported-models"
      ],
      "execution_count": null,
      "outputs": []
    },
    {
      "source": [
        "## 1. Training Object Detection Model Using Tensorflow Object Detection API\n",
        "\n",
        "Training object detection model. Model to be trained :\n",
        "\n",
        "1. Color Detection\n",
        "2. Object Detection\n",
        "\n",
        "### 1.1"
      ],
      "cell_type": "markdown",
      "metadata": {}
    },
    {
      "cell_type": "code",
      "metadata": {
        "colab": {
          "base_uri": "https://localhost:8080/"
        },
        "id": "1EfBtEWITyT_",
        "outputId": "e5953bd4-5d60-40d4-c10d-7582d3193282"
      },
      "source": [
        "# Generate tfrecord\n",
        "!python scripts/preprocessing/generate_tfrecord.py -x images/train -l annotations/label_map.pbtxt -o annotations/train.record\n",
        "!python scripts/preprocessing/generate_tfrecord.py -x images/test -l annotations/label_map.pbtxt -o annotations//test.record"
      ],
      "execution_count": null,
      "outputs": []
    },
    {
      "cell_type": "code",
      "metadata": {
        "colab": {
          "base_uri": "https://localhost:8080/"
        },
        "id": "Q6ccFvoISSXe",
        "outputId": "c6b48993-26d1-467d-8eaf-820cad3107f6"
      },
      "source": [
        "!python model_main_tf2.py --model_dir=models/model_aku --pipeline_config_path=models/model_aku/pipeline.config"
      ],
      "execution_count": null,
      "outputs": []
    },
    {
      "cell_type": "code",
      "metadata": {
        "colab": {
          "base_uri": "https://localhost:8080/"
        },
        "id": "5h7mFACQdSp0",
        "outputId": "96b7cd71-4e8b-47cb-c976-418ce422126a"
      },
      "source": [
        "%cd ../../.."
      ],
      "execution_count": null,
      "outputs": []
    },
    {
      "cell_type": "code",
      "metadata": {
        "colab": {
          "base_uri": "https://localhost:8080/"
        },
        "id": "OFmDwfXfahuG",
        "outputId": "77e341ad-ae8a-4fbe-c192-0e8dae6b733b"
      },
      "source": [
        "!python TensorFlow/models/research/object_detection/export_tflite_graph_tf2.py \\\n",
        "        --pipeline_config_path TensorFlow/workspace/training_demo/models/model_aku/pipeline.config \\\n",
        "        --trained_checkpoint_dir TensorFlow/workspace/training_demo/models/model_aku/ \\\n",
        "        --output_directory TensorFlow/workspace/training_demo/exported-models"
      ],
      "execution_count": null,
      "outputs": []
    },
    {
      "cell_type": "code",
      "metadata": {
        "id": "eiJ1JUm7edgi"
      },
      "source": [
        "import tensorflow as tf\n",
        "import numpy as np\n",
        "\n",
        "# Convert the model\n",
        "converter = tf.lite.TFLiteConverter.from_saved_model('TensorFlow/workspace/training_demo/exported-models/saved_model') \n",
        "converter.optimizations = [tf.lite.Optimize.DEFAULT]\n",
        "converter.target_spec.supported_ops = [tf.lite.OpsSet.TFLITE_BUILTINS]\n",
        "tflite_model = converter.convert()\n",
        "\n",
        "# Save the model.\n",
        "with open('detect.tflite', 'wb') as f:\n",
        "  f.write(tflite_model)"
      ],
      "execution_count": null,
      "outputs": []
    },
    {
      "cell_type": "code",
      "metadata": {
        "id": "PA3Sn9wqpNNq"
      },
      "source": [
        "LABELS = [\n",
        "    'axe'\n",
        "]\n",
        "\n",
        "with open('labelmap.txt', 'w') as w:\n",
        "  w.write('\\n'.join(LABELS))"
      ],
      "execution_count": null,
      "outputs": []
    },
    {
      "cell_type": "code",
      "execution_count": null,
      "metadata": {},
      "outputs": [],
      "source": [
        "!pip install tflite-support"
      ]
    },
    {
      "cell_type": "code",
      "metadata": {
        "colab": {
          "base_uri": "https://localhost:8080/"
        },
        "id": "LQ9xdpripF-T",
        "outputId": "9545a984-3d7b-4354-e4c7-da3a3d79cecc"
      },
      "source": [
        "from tflite_support.metadata_writers import object_detector\n",
        "from tflite_support.metadata_writers import writer_utils\n",
        "from tflite_support import metadata\n",
        "\n",
        "ObjectDetectorWriter = object_detector.MetadataWriter\n",
        "MODEL_PATH = \"detect.tflite\"\n",
        "LABEL_FILE = \"labelmap.txt\"\n",
        "EXPORT_PATH = \"detect.tflite\"\n",
        "\n",
        "writer = ObjectDetectorWriter.create_for_inference(\n",
        "    writer_utils.load_file(MODEL_PATH), [127.5], [127.5], [LABEL_FILE])\n",
        "writer_utils.save_file(writer.populate(), EXPORT_PATH)\n",
        "\n",
        "# Verify the populated metadata and associated files.\n",
        "displayer = metadata.MetadataDisplayer.with_model_file(EXPORT_PATH)\n",
        "print(\"Metadata populated:\")\n",
        "print(displayer.get_metadata_json())\n",
        "print(\"Associated file(s) populated:\")\n",
        "print(displayer.get_packed_associated_file_list())"
      ],
      "execution_count": null,
      "outputs": []
    },
    {
      "cell_type": "code",
      "metadata": {
        "colab": {
          "base_uri": "https://localhost:8080/",
          "height": 17
        },
        "id": "f3LaatZvgPJK",
        "outputId": "a3b2a7b2-8247-463c-f2a4-3b0f8216099b"
      },
      "source": [
        "from google.colab import files\n",
        "\n",
        "files.download('detect.tflite')"
      ],
      "execution_count": null,
      "outputs": []
    }
  ]
}