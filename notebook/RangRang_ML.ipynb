{
  "nbformat": 4,
  "nbformat_minor": 0,
  "metadata": {
    "colab": {
      "name": "RangRang-ML.ipynb",
      "provenance": [],
      "collapsed_sections": []
    },
    "kernelspec": {
      "name": "python3",
      "display_name": "Python 3"
    },
    "language_info": {
      "name": "python"
    },
    "accelerator": "GPU"
  },
  "cells": [
    {
      "cell_type": "code",
      "metadata": {
        "id": "KStnve2mqHac"
      },
      "source": [
        "!pip install tflite-support"
      ],
      "execution_count": null,
      "outputs": []
    },
    {
      "cell_type": "code",
      "metadata": {
        "colab": {
          "base_uri": "https://localhost:8080/"
        },
        "id": "Go2HU66GW-4n",
        "outputId": "2f759d3a-b761-44e7-ad14-cca6bc9346ae"
      },
      "source": [
        "!mkdir TensorFlow \n",
        "%cd TensorFlow\n",
        "!git clone https://github.com/tensorflow/models.git\n",
        "%cd models/research\n",
        "!protoc object_detection/protos/*.proto --python_out=.\n",
        "!pip install cython\n",
        "!pip install git+https://github.com/philferriere/cocoapi.git#subdirectory=PythonAPI\n",
        "!cp object_detection/packages/tf2/setup.py .\n",
        "!python -m pip install .\n",
        "!python object_detection/builders/model_builder_tf2_test.py"
      ],
      "execution_count": null,
      "outputs": []
    },
    {
      "cell_type": "code",
      "metadata": {
        "colab": {
          "base_uri": "https://localhost:8080/"
        },
        "id": "MQdvNgpCMTC0",
        "outputId": "982a18ab-b222-4782-baa7-76b1b585b81a"
      },
      "source": [
        "%cd ../../..\n",
        "!git clone https://github.com/Hyuto/rangrang-ML.git\n",
        "!cp -r rangrang-ML/workspace TensorFlow\n",
        "%cd rangrang-ML\n",
        "!git checkout tensorflow-od\n",
        "%cd ..\n",
        "!cp -r rangrang-ML/workspace TensorFlow\n",
        "%cd TensorFlow/workspace/training_demo\n",
        "!mkdir exported-models"
      ],
      "execution_count": null,
      "outputs": []
    },
    {
      "cell_type": "code",
      "metadata": {
        "colab": {
          "base_uri": "https://localhost:8080/"
        },
        "id": "1EfBtEWITyT_",
        "outputId": "a1319b74-cdec-4d0d-f249-94c88230dd0f"
      },
      "source": [
        "# Generate tfrecord\n",
        "!python scripts/preprocessing/generate_tfrecord.py -x images/train -l annotations/label_map.pbtxt -o annotations/train.record\n",
        "!python scripts/preprocessing/generate_tfrecord.py -x images/test -l annotations/label_map.pbtxt -o annotations//test.record"
      ],
      "execution_count": null,
      "outputs": []
    },
    {
      "cell_type": "code",
      "metadata": {
        "colab": {
          "base_uri": "https://localhost:8080/"
        },
        "id": "Q6ccFvoISSXe",
        "outputId": "c62b81a7-e938-4b63-a8b3-de81712911c9"
      },
      "source": [
        "!python model_main_tf2.py --model_dir=models/model_aku --pipeline_config_path=models/model_aku/pipeline.config"
      ],
      "execution_count": null,
      "outputs": []
    },
    {
      "cell_type": "code",
      "metadata": {
        "colab": {
          "base_uri": "https://localhost:8080/"
        },
        "id": "5h7mFACQdSp0",
        "outputId": "389892c4-fbab-4875-c410-1b522ec04133"
      },
      "source": [
        "%cd ../../.."
      ],
      "execution_count": null,
      "outputs": []
    },
    {
      "cell_type": "code",
      "metadata": {
        "colab": {
          "base_uri": "https://localhost:8080/"
        },
        "id": "OFmDwfXfahuG",
        "outputId": "4420e30a-d15e-479c-9fc6-ea6e8ff37204"
      },
      "source": [
        "!python TensorFlow/models/research/object_detection/export_tflite_graph_tf2.py \\\n",
        "        --pipeline_config_path TensorFlow/workspace/training_demo/models/model_aku/pipeline.config \\\n",
        "        --trained_checkpoint_dir TensorFlow/workspace/training_demo/models/model_aku/ \\\n",
        "        --output_directory TensorFlow/workspace/training_demo/exported-models"
      ],
      "execution_count": null,
      "outputs": []
    },
    {
      "cell_type": "code",
      "metadata": {
        "id": "eiJ1JUm7edgi"
      },
      "source": [
        "import tensorflow as tf\n",
        "import numpy as np\n",
        "\n",
        "def representative_dataset():\n",
        "    for _ in range(1):\n",
        "      data = np.random.rand(1, 320, 320, 3)\n",
        "      yield [data.astype(np.float32)]\n",
        "\n",
        "# Convert the model\n",
        "converter = tf.lite.TFLiteConverter.from_saved_model('TensorFlow/workspace/training_demo/exported-models/saved_model') \n",
        "converter.optimizations = [tf.lite.Optimize.DEFAULT]\n",
        "converter.target_spec.supported_ops = [tf.lite.OpsSet.TFLITE_BUILTINS_INT8,\n",
        "                                       tf.lite.OpsSet.TFLITE_BUILTINS]\n",
        "converter.representative_dataset = representative_dataset\n",
        "tflite_model = converter.convert()\n",
        "\n",
        "# Save the model.\n",
        "with open('detect.tflite', 'wb') as f:\n",
        "  f.write(tflite_model)"
      ],
      "execution_count": null,
      "outputs": []
    },
    {
      "cell_type": "code",
      "metadata": {
        "id": "PA3Sn9wqpNNq"
      },
      "source": [
        "LABELS = [\n",
        "    'axe'\n",
        "]\n",
        "\n",
        "with open('labelmap.txt', 'w') as w:\n",
        "  w.write('\\n'.join(LABELS))"
      ],
      "execution_count": null,
      "outputs": []
    },
    {
      "cell_type": "code",
      "metadata": {
        "colab": {
          "base_uri": "https://localhost:8080/"
        },
        "id": "LQ9xdpripF-T",
        "outputId": "35381d24-b4d6-42aa-f3af-27076812c027"
      },
      "source": [
        "from tflite_support.metadata_writers import object_detector\n",
        "from tflite_support.metadata_writers import writer_utils\n",
        "from tflite_support import metadata\n",
        "\n",
        "ObjectDetectorWriter = object_detector.MetadataWriter\n",
        "MODEL_PATH = \"detect.tflite\"\n",
        "LABEL_FILE = \"labelmap.txt\"\n",
        "EXPORT_PATH = \"detect.tflite\"\n",
        "\n",
        "writer = ObjectDetectorWriter.create_for_inference(\n",
        "    writer_utils.load_file(MODEL_PATH), [127.5], [127.5], [LABEL_FILE])\n",
        "writer_utils.save_file(writer.populate(), EXPORT_PATH)\n",
        "\n",
        "# Verify the populated metadata and associated files.\n",
        "displayer = metadata.MetadataDisplayer.with_model_file(_SAVE_TO_PATH)\n",
        "print(\"Metadata populated:\")\n",
        "print(displayer.get_metadata_json())\n",
        "print(\"Associated file(s) populated:\")\n",
        "print(displayer.get_packed_associated_file_list())"
      ],
      "execution_count": null,
      "outputs": []
    },
    {
      "cell_type": "code",
      "metadata": {
        "colab": {
          "base_uri": "https://localhost:8080/",
          "height": 17
        },
        "id": "f3LaatZvgPJK",
        "outputId": "47809667-b591-4fde-bc97-779091ca05ef"
      },
      "source": [
        "from google.colab import files\n",
        "\n",
        "files.download('detect.tflite')"
      ],
      "execution_count": null,
      "outputs": []
    }
  ]
}